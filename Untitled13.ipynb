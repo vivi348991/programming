{
  "nbformat": 4,
  "nbformat_minor": 0,
  "metadata": {
    "colab": {
      "provenance": [],
      "authorship_tag": "ABX9TyNrYJhntZSdp9nTP2a9aik6",
      "include_colab_link": true
    },
    "kernelspec": {
      "name": "python3",
      "display_name": "Python 3"
    },
    "language_info": {
      "name": "python"
    }
  },
  "cells": [
    {
      "cell_type": "markdown",
      "metadata": {
        "id": "view-in-github",
        "colab_type": "text"
      },
      "source": [
        "<a href=\"https://colab.research.google.com/github/vivi348991/programming/blob/main/Untitled13.ipynb\" target=\"_parent\"><img src=\"https://colab.research.google.com/assets/colab-badge.svg\" alt=\"Open In Colab\"/></a>"
      ]
    },
    {
      "cell_type": "code",
      "execution_count": 5,
      "metadata": {
        "colab": {
          "base_uri": "https://localhost:8080/"
        },
        "id": "qsEREM-XoG40",
        "outputId": "cc97f0d9-11f3-4ed5-ee34-0b5b05321be9"
      },
      "outputs": [
        {
          "output_type": "stream",
          "name": "stdout",
          "text": [
            "Enter a numeric grade88\n",
            "Your letter grade is  B\n"
          ]
        }
      ],
      "source": [
        "#Letter Grade Converter\n",
        "grade = int(input(\"Enter a numeric grade\"))\n",
        "if grade >=90:\n",
        "    letter_grade='A'\n",
        "elif grade >=80:\n",
        "    letter_grade='B'\n",
        "elif grade >=70:\n",
        "    letter_grade='C'\n",
        "elif grade >=65:\n",
        "    letter_grade='D'\n",
        "else:\n",
        "\tletter_grade='F'\n",
        "print(\"Your letter grade is \", letter_grade)\n"
      ]
    }
  ]
}